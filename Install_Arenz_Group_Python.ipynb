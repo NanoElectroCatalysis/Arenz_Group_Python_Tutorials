{
 "cells": [
  {
   "cell_type": "markdown",
   "metadata": {},
   "source": [
    "# General installation from github\n",
    "pip install \"Package\" @ git+\"URL of the repository#subdirectory=path\"\n",
    "\n",
    "Here, we want to install Arenz_Group Python package."
   ]
  },
  {
   "cell_type": "code",
   "execution_count": 1,
   "metadata": {},
   "outputs": [],
   "source": [
    "import sys\n",
    "path_to_executable = \"\\\"\" + str(sys.executable) +  \"\\\"\" #must be used if there are any spaces in the path"
   ]
  },
  {
   "cell_type": "markdown",
   "metadata": {},
   "source": [
    "This can take a while to install....2min or so"
   ]
  },
  {
   "cell_type": "code",
   "execution_count": 11,
   "metadata": {},
   "outputs": [
    {
     "name": "stdout",
     "output_type": "stream",
     "text": [
      "Requirement already satisfied: arenz_group_python in c:\\users\\gustav.wiberg\\documents\\github\\potentiostats\\arenz_group_python_tutorials\\.conda\\lib\\site-packages (0.3.6)\n",
      "Requirement already satisfied: ec4py in c:\\users\\gustav.wiberg\\documents\\github\\potentiostats\\arenz_group_python_tutorials\\.conda\\lib\\site-packages (from arenz_group_python) (0.2.2)\n",
      "Requirement already satisfied: matplotlib in c:\\users\\gustav.wiberg\\documents\\github\\potentiostats\\arenz_group_python_tutorials\\.conda\\lib\\site-packages (from arenz_group_python) (3.9.1)\n",
      "Requirement already satisfied: nptdms in c:\\users\\gustav.wiberg\\documents\\github\\potentiostats\\arenz_group_python_tutorials\\.conda\\lib\\site-packages (from arenz_group_python) (1.9.0)\n",
      "Requirement already satisfied: numpy in c:\\users\\gustav.wiberg\\documents\\github\\potentiostats\\arenz_group_python_tutorials\\.conda\\lib\\site-packages (from arenz_group_python) (2.0.1)\n",
      "Requirement already satisfied: pandas in c:\\users\\gustav.wiberg\\documents\\github\\potentiostats\\arenz_group_python_tutorials\\.conda\\lib\\site-packages (from arenz_group_python) (2.2.2)\n",
      "Requirement already satisfied: pathlib in c:\\users\\gustav.wiberg\\documents\\github\\potentiostats\\arenz_group_python_tutorials\\.conda\\lib\\site-packages (from arenz_group_python) (1.0.1)\n",
      "Requirement already satisfied: scipy in c:\\users\\gustav.wiberg\\documents\\github\\potentiostats\\arenz_group_python_tutorials\\.conda\\lib\\site-packages (from arenz_group_python) (1.14.0)\n",
      "Requirement already satisfied: contourpy>=1.0.1 in c:\\users\\gustav.wiberg\\documents\\github\\potentiostats\\arenz_group_python_tutorials\\.conda\\lib\\site-packages (from matplotlib->arenz_group_python) (1.2.1)\n",
      "Requirement already satisfied: cycler>=0.10 in c:\\users\\gustav.wiberg\\documents\\github\\potentiostats\\arenz_group_python_tutorials\\.conda\\lib\\site-packages (from matplotlib->arenz_group_python) (0.12.1)\n",
      "Requirement already satisfied: fonttools>=4.22.0 in c:\\users\\gustav.wiberg\\documents\\github\\potentiostats\\arenz_group_python_tutorials\\.conda\\lib\\site-packages (from matplotlib->arenz_group_python) (4.53.1)\n",
      "Requirement already satisfied: kiwisolver>=1.3.1 in c:\\users\\gustav.wiberg\\documents\\github\\potentiostats\\arenz_group_python_tutorials\\.conda\\lib\\site-packages (from matplotlib->arenz_group_python) (1.4.5)\n",
      "Requirement already satisfied: packaging>=20.0 in c:\\users\\gustav.wiberg\\documents\\github\\potentiostats\\arenz_group_python_tutorials\\.conda\\lib\\site-packages (from matplotlib->arenz_group_python) (24.1)\n",
      "Requirement already satisfied: pillow>=8 in c:\\users\\gustav.wiberg\\documents\\github\\potentiostats\\arenz_group_python_tutorials\\.conda\\lib\\site-packages (from matplotlib->arenz_group_python) (10.4.0)\n",
      "Requirement already satisfied: pyparsing>=2.3.1 in c:\\users\\gustav.wiberg\\documents\\github\\potentiostats\\arenz_group_python_tutorials\\.conda\\lib\\site-packages (from matplotlib->arenz_group_python) (3.1.2)\n",
      "Requirement already satisfied: python-dateutil>=2.7 in c:\\users\\gustav.wiberg\\documents\\github\\potentiostats\\arenz_group_python_tutorials\\.conda\\lib\\site-packages (from matplotlib->arenz_group_python) (2.9.0)\n",
      "Requirement already satisfied: pytz>=2020.1 in c:\\users\\gustav.wiberg\\documents\\github\\potentiostats\\arenz_group_python_tutorials\\.conda\\lib\\site-packages (from pandas->arenz_group_python) (2024.1)\n",
      "Requirement already satisfied: tzdata>=2022.7 in c:\\users\\gustav.wiberg\\documents\\github\\potentiostats\\arenz_group_python_tutorials\\.conda\\lib\\site-packages (from pandas->arenz_group_python) (2024.1)\n",
      "Requirement already satisfied: six>=1.5 in c:\\users\\gustav.wiberg\\documents\\github\\potentiostats\\arenz_group_python_tutorials\\.conda\\lib\\site-packages (from python-dateutil>=2.7->matplotlib->arenz_group_python) (1.16.0)\n",
      "Note: you may need to restart the kernel to use updated packages.\n"
     ]
    }
   ],
   "source": [
    "#works for most venv.\n",
    "\n",
    "%pip install arenz_group_python --upgrade"
   ]
  },
  {
   "cell_type": "code",
   "execution_count": 1,
   "metadata": {},
   "outputs": [
    {
     "name": "stdout",
     "output_type": "stream",
     "text": [
      "\"data_raw\" could not be found as a branch of the folder tree form the notebook.\n",
      "Please use standard project structure.\n",
      "\"data_treated\" could not be found as a branch of the folder tree form the notebook.\n",
      "Please use standard project structure.\n",
      "0.3.6\n"
     ]
    }
   ],
   "source": [
    "import arenz_group_python\n",
    "print(arenz_group_python.__version__)"
   ]
  },
  {
   "cell_type": "markdown",
   "metadata": {},
   "source": [
    "If you dont have pip or git installed in your conda env., run:\n",
    "\n",
    ">%conda install pip\n",
    "\n",
    ">%conda install git"
   ]
  }
 ],
 "metadata": {
  "kernelspec": {
   "display_name": "Python 3",
   "language": "python",
   "name": "python3"
  },
  "language_info": {
   "codemirror_mode": {
    "name": "ipython",
    "version": 3
   },
   "file_extension": ".py",
   "mimetype": "text/x-python",
   "name": "python",
   "nbconvert_exporter": "python",
   "pygments_lexer": "ipython3",
   "version": "3.12.4"
  }
 },
 "nbformat": 4,
 "nbformat_minor": 2
}
